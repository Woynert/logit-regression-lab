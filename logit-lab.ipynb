{
 "cells": [
  {
   "cell_type": "markdown",
   "id": "7ebe940c-d446-4ff9-9dc5-e9d7dc710727",
   "metadata": {},
   "source": [
    "# Logit Regression Laboratory\n",
    "\n",
    "Un estudio sobre el cancer de mama con datos del ICM Machine Learning Repository."
   ]
  },
  {
   "cell_type": "code",
   "execution_count": 1,
   "id": "1ef6454e-bdfb-4224-b9dc-afd6f08f02f1",
   "metadata": {},
   "outputs": [
    {
     "name": "stdout",
     "output_type": "stream",
     "text": [
      "hello world\n"
     ]
    }
   ],
   "source": [
    "print (\"hello world\")"
   ]
  }
 ],
 "metadata": {
  "kernelspec": {
   "display_name": "Python 3 (ipykernel)",
   "language": "python",
   "name": "python3"
  },
  "language_info": {
   "codemirror_mode": {
    "name": "ipython",
    "version": 3
   },
   "file_extension": ".py",
   "mimetype": "text/x-python",
   "name": "python",
   "nbconvert_exporter": "python",
   "pygments_lexer": "ipython3",
   "version": "3.9.17"
  }
 },
 "nbformat": 4,
 "nbformat_minor": 5
}
