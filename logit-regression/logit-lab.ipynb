{
 "cells": [
  {
   "cell_type": "markdown",
   "id": "7ebe940c-d446-4ff9-9dc5-e9d7dc710727",
   "metadata": {},
   "source": [
    "# Logit Regression Laboratory\n",
    "\n",
    "Un estudio sobre condiciones dermatológicas con datos del ICM Machine Learning Repository."
   ]
  },
  {
   "cell_type": "code",
   "execution_count": 590,
   "id": "c16ba87a-4077-4750-9731-498fb766c18f",
   "metadata": {},
   "outputs": [
    {
     "name": "stdout",
     "output_type": "stream",
     "text": [
      "The autoreload extension is already loaded. To reload it, use:\n",
      "  %reload_ext autoreload\n"
     ]
    }
   ],
   "source": [
    "# Above sentences help auto reload modules \n",
    "\n",
    "%load_ext autoreload\n",
    "%autoreload 2\n",
    "\n",
    "# Import system libraries\n",
    "from random import shuffle\n",
    "from typing import List\n",
    "import importlib\n",
    "import numpy\n",
    "import pandas as pd\n",
    "import plotly.express as px\n",
    "\n",
    "# Import custom libraries\n",
    "\n",
    "import sys\n",
    "sys.path.append('./src/cleaning')\n",
    "sys.path.append('./src/learning')\n",
    "\n",
    "import OutlinerUtils\n",
    "import MissingValues\n",
    "import Preprocess\n",
    "import Distances\n",
    "import Categorization"
   ]
  },
  {
   "cell_type": "code",
   "execution_count": 671,
   "id": "1ef6454e-bdfb-4224-b9dc-afd6f08f02f1",
   "metadata": {},
   "outputs": [],
   "source": [
    "# Here we store all global variables\n",
    "\n",
    "class Store:\n",
    "    tag_column: str = \"Class\"\n",
    "    \n",
    "    data_raw: pd.DataFrame = None\n",
    "    data_tmp: pd.DataFrame = None\n",
    "\n",
    "    data_train: pd.DataFrame = None\n",
    "    data_test: pd.DataFrame = None\n",
    "    \n",
    "    missing_indexes: List[int] = []\n",
    "    outliner_indexes: List[int] = []\n",
    "    tags: List[str] = []\n",
    "\n",
    "store = Store()"
   ]
  },
  {
   "cell_type": "code",
   "execution_count": 672,
   "id": "b8f3224d-7eb6-4975-9513-aa7f508b9aa9",
   "metadata": {},
   "outputs": [
    {
     "data": {
      "text/html": [
       "<div>\n",
       "<style scoped>\n",
       "    .dataframe tbody tr th:only-of-type {\n",
       "        vertical-align: middle;\n",
       "    }\n",
       "\n",
       "    .dataframe tbody tr th {\n",
       "        vertical-align: top;\n",
       "    }\n",
       "\n",
       "    .dataframe thead th {\n",
       "        text-align: right;\n",
       "    }\n",
       "</style>\n",
       "<table border=\"1\" class=\"dataframe\">\n",
       "  <thead>\n",
       "    <tr style=\"text-align: right;\">\n",
       "      <th></th>\n",
       "      <th>C0</th>\n",
       "      <th>C1</th>\n",
       "      <th>C2</th>\n",
       "      <th>C3</th>\n",
       "      <th>C4</th>\n",
       "      <th>C5</th>\n",
       "      <th>C6</th>\n",
       "      <th>C7</th>\n",
       "      <th>C8</th>\n",
       "      <th>C9</th>\n",
       "      <th>...</th>\n",
       "      <th>C25</th>\n",
       "      <th>C26</th>\n",
       "      <th>C27</th>\n",
       "      <th>C28</th>\n",
       "      <th>C29</th>\n",
       "      <th>C30</th>\n",
       "      <th>C31</th>\n",
       "      <th>C32</th>\n",
       "      <th>C33</th>\n",
       "      <th>Class</th>\n",
       "    </tr>\n",
       "  </thead>\n",
       "  <tbody>\n",
       "    <tr>\n",
       "      <th>0</th>\n",
       "      <td>2</td>\n",
       "      <td>2</td>\n",
       "      <td>0</td>\n",
       "      <td>3</td>\n",
       "      <td>0</td>\n",
       "      <td>0</td>\n",
       "      <td>0</td>\n",
       "      <td>0</td>\n",
       "      <td>1</td>\n",
       "      <td>0</td>\n",
       "      <td>...</td>\n",
       "      <td>0</td>\n",
       "      <td>0</td>\n",
       "      <td>3</td>\n",
       "      <td>0</td>\n",
       "      <td>0</td>\n",
       "      <td>0</td>\n",
       "      <td>1</td>\n",
       "      <td>0</td>\n",
       "      <td>55</td>\n",
       "      <td>2</td>\n",
       "    </tr>\n",
       "    <tr>\n",
       "      <th>1</th>\n",
       "      <td>3</td>\n",
       "      <td>3</td>\n",
       "      <td>3</td>\n",
       "      <td>2</td>\n",
       "      <td>1</td>\n",
       "      <td>0</td>\n",
       "      <td>0</td>\n",
       "      <td>0</td>\n",
       "      <td>1</td>\n",
       "      <td>1</td>\n",
       "      <td>...</td>\n",
       "      <td>0</td>\n",
       "      <td>0</td>\n",
       "      <td>0</td>\n",
       "      <td>0</td>\n",
       "      <td>0</td>\n",
       "      <td>0</td>\n",
       "      <td>1</td>\n",
       "      <td>0</td>\n",
       "      <td>8</td>\n",
       "      <td>1</td>\n",
       "    </tr>\n",
       "    <tr>\n",
       "      <th>2</th>\n",
       "      <td>2</td>\n",
       "      <td>1</td>\n",
       "      <td>2</td>\n",
       "      <td>3</td>\n",
       "      <td>1</td>\n",
       "      <td>3</td>\n",
       "      <td>0</td>\n",
       "      <td>3</td>\n",
       "      <td>0</td>\n",
       "      <td>0</td>\n",
       "      <td>...</td>\n",
       "      <td>0</td>\n",
       "      <td>2</td>\n",
       "      <td>3</td>\n",
       "      <td>2</td>\n",
       "      <td>0</td>\n",
       "      <td>0</td>\n",
       "      <td>2</td>\n",
       "      <td>3</td>\n",
       "      <td>26</td>\n",
       "      <td>3</td>\n",
       "    </tr>\n",
       "    <tr>\n",
       "      <th>3</th>\n",
       "      <td>2</td>\n",
       "      <td>2</td>\n",
       "      <td>2</td>\n",
       "      <td>0</td>\n",
       "      <td>0</td>\n",
       "      <td>0</td>\n",
       "      <td>0</td>\n",
       "      <td>0</td>\n",
       "      <td>3</td>\n",
       "      <td>2</td>\n",
       "      <td>...</td>\n",
       "      <td>3</td>\n",
       "      <td>0</td>\n",
       "      <td>0</td>\n",
       "      <td>0</td>\n",
       "      <td>0</td>\n",
       "      <td>0</td>\n",
       "      <td>3</td>\n",
       "      <td>0</td>\n",
       "      <td>40</td>\n",
       "      <td>1</td>\n",
       "    </tr>\n",
       "    <tr>\n",
       "      <th>4</th>\n",
       "      <td>2</td>\n",
       "      <td>3</td>\n",
       "      <td>2</td>\n",
       "      <td>2</td>\n",
       "      <td>2</td>\n",
       "      <td>2</td>\n",
       "      <td>0</td>\n",
       "      <td>2</td>\n",
       "      <td>0</td>\n",
       "      <td>0</td>\n",
       "      <td>...</td>\n",
       "      <td>2</td>\n",
       "      <td>3</td>\n",
       "      <td>2</td>\n",
       "      <td>3</td>\n",
       "      <td>0</td>\n",
       "      <td>0</td>\n",
       "      <td>2</td>\n",
       "      <td>3</td>\n",
       "      <td>45</td>\n",
       "      <td>3</td>\n",
       "    </tr>\n",
       "    <tr>\n",
       "      <th>...</th>\n",
       "      <td>...</td>\n",
       "      <td>...</td>\n",
       "      <td>...</td>\n",
       "      <td>...</td>\n",
       "      <td>...</td>\n",
       "      <td>...</td>\n",
       "      <td>...</td>\n",
       "      <td>...</td>\n",
       "      <td>...</td>\n",
       "      <td>...</td>\n",
       "      <td>...</td>\n",
       "      <td>...</td>\n",
       "      <td>...</td>\n",
       "      <td>...</td>\n",
       "      <td>...</td>\n",
       "      <td>...</td>\n",
       "      <td>...</td>\n",
       "      <td>...</td>\n",
       "      <td>...</td>\n",
       "      <td>...</td>\n",
       "      <td>...</td>\n",
       "    </tr>\n",
       "    <tr>\n",
       "      <th>361</th>\n",
       "      <td>2</td>\n",
       "      <td>1</td>\n",
       "      <td>1</td>\n",
       "      <td>0</td>\n",
       "      <td>1</td>\n",
       "      <td>0</td>\n",
       "      <td>0</td>\n",
       "      <td>0</td>\n",
       "      <td>0</td>\n",
       "      <td>0</td>\n",
       "      <td>...</td>\n",
       "      <td>0</td>\n",
       "      <td>0</td>\n",
       "      <td>1</td>\n",
       "      <td>0</td>\n",
       "      <td>0</td>\n",
       "      <td>0</td>\n",
       "      <td>2</td>\n",
       "      <td>0</td>\n",
       "      <td>25</td>\n",
       "      <td>4</td>\n",
       "    </tr>\n",
       "    <tr>\n",
       "      <th>362</th>\n",
       "      <td>3</td>\n",
       "      <td>2</td>\n",
       "      <td>1</td>\n",
       "      <td>0</td>\n",
       "      <td>1</td>\n",
       "      <td>0</td>\n",
       "      <td>0</td>\n",
       "      <td>0</td>\n",
       "      <td>0</td>\n",
       "      <td>0</td>\n",
       "      <td>...</td>\n",
       "      <td>1</td>\n",
       "      <td>0</td>\n",
       "      <td>1</td>\n",
       "      <td>0</td>\n",
       "      <td>0</td>\n",
       "      <td>0</td>\n",
       "      <td>2</td>\n",
       "      <td>0</td>\n",
       "      <td>36</td>\n",
       "      <td>4</td>\n",
       "    </tr>\n",
       "    <tr>\n",
       "      <th>363</th>\n",
       "      <td>3</td>\n",
       "      <td>2</td>\n",
       "      <td>2</td>\n",
       "      <td>2</td>\n",
       "      <td>3</td>\n",
       "      <td>2</td>\n",
       "      <td>0</td>\n",
       "      <td>2</td>\n",
       "      <td>0</td>\n",
       "      <td>0</td>\n",
       "      <td>...</td>\n",
       "      <td>0</td>\n",
       "      <td>3</td>\n",
       "      <td>0</td>\n",
       "      <td>3</td>\n",
       "      <td>0</td>\n",
       "      <td>0</td>\n",
       "      <td>2</td>\n",
       "      <td>3</td>\n",
       "      <td>28</td>\n",
       "      <td>3</td>\n",
       "    </tr>\n",
       "    <tr>\n",
       "      <th>364</th>\n",
       "      <td>2</td>\n",
       "      <td>1</td>\n",
       "      <td>3</td>\n",
       "      <td>1</td>\n",
       "      <td>2</td>\n",
       "      <td>3</td>\n",
       "      <td>0</td>\n",
       "      <td>2</td>\n",
       "      <td>0</td>\n",
       "      <td>0</td>\n",
       "      <td>...</td>\n",
       "      <td>0</td>\n",
       "      <td>2</td>\n",
       "      <td>0</td>\n",
       "      <td>1</td>\n",
       "      <td>0</td>\n",
       "      <td>0</td>\n",
       "      <td>2</td>\n",
       "      <td>3</td>\n",
       "      <td>50</td>\n",
       "      <td>3</td>\n",
       "    </tr>\n",
       "    <tr>\n",
       "      <th>365</th>\n",
       "      <td>3</td>\n",
       "      <td>2</td>\n",
       "      <td>2</td>\n",
       "      <td>0</td>\n",
       "      <td>0</td>\n",
       "      <td>0</td>\n",
       "      <td>0</td>\n",
       "      <td>0</td>\n",
       "      <td>3</td>\n",
       "      <td>3</td>\n",
       "      <td>...</td>\n",
       "      <td>2</td>\n",
       "      <td>0</td>\n",
       "      <td>0</td>\n",
       "      <td>0</td>\n",
       "      <td>0</td>\n",
       "      <td>0</td>\n",
       "      <td>3</td>\n",
       "      <td>0</td>\n",
       "      <td>35</td>\n",
       "      <td>1</td>\n",
       "    </tr>\n",
       "  </tbody>\n",
       "</table>\n",
       "<p>366 rows × 35 columns</p>\n",
       "</div>"
      ],
      "text/plain": [
       "     C0  C1  C2  C3  C4  C5  C6  C7  C8  C9  ...  C25  C26  C27  C28  C29  \\\n",
       "0     2   2   0   3   0   0   0   0   1   0  ...    0    0    3    0    0   \n",
       "1     3   3   3   2   1   0   0   0   1   1  ...    0    0    0    0    0   \n",
       "2     2   1   2   3   1   3   0   3   0   0  ...    0    2    3    2    0   \n",
       "3     2   2   2   0   0   0   0   0   3   2  ...    3    0    0    0    0   \n",
       "4     2   3   2   2   2   2   0   2   0   0  ...    2    3    2    3    0   \n",
       "..   ..  ..  ..  ..  ..  ..  ..  ..  ..  ..  ...  ...  ...  ...  ...  ...   \n",
       "361   2   1   1   0   1   0   0   0   0   0  ...    0    0    1    0    0   \n",
       "362   3   2   1   0   1   0   0   0   0   0  ...    1    0    1    0    0   \n",
       "363   3   2   2   2   3   2   0   2   0   0  ...    0    3    0    3    0   \n",
       "364   2   1   3   1   2   3   0   2   0   0  ...    0    2    0    1    0   \n",
       "365   3   2   2   0   0   0   0   0   3   3  ...    2    0    0    0    0   \n",
       "\n",
       "     C30  C31  C32  C33  Class  \n",
       "0      0    1    0   55      2  \n",
       "1      0    1    0    8      1  \n",
       "2      0    2    3   26      3  \n",
       "3      0    3    0   40      1  \n",
       "4      0    2    3   45      3  \n",
       "..   ...  ...  ...  ...    ...  \n",
       "361    0    2    0   25      4  \n",
       "362    0    2    0   36      4  \n",
       "363    0    2    3   28      3  \n",
       "364    0    2    3   50      3  \n",
       "365    0    3    0   35      1  \n",
       "\n",
       "[366 rows x 35 columns]"
      ]
     },
     "execution_count": 672,
     "metadata": {},
     "output_type": "execute_result"
    }
   ],
   "source": [
    "# Import data\n",
    "\n",
    "store.data_raw = pd.read_csv('./data/dermatology/dermatology-with-labels.data')\n",
    "store.data_raw"
   ]
  },
  {
   "cell_type": "markdown",
   "id": "59a5e0ae-7505-4860-9b79-de9b89e5051b",
   "metadata": {},
   "source": [
    "## Data Cleaning"
   ]
  },
  {
   "cell_type": "markdown",
   "id": "bf236a85-d51c-4910-ab84-70b93652e93b",
   "metadata": {},
   "source": [
    "2. Encontrar valores atípicos o faltantes entre las columnas de los\r\n",
    "registros. En caso de que existan, cuantificarlos (contarlos) para\r\n",
    "conocer el número total de ellos."
   ]
  },
  {
   "cell_type": "markdown",
   "id": "1aade48b-6b8f-4c2e-8e6b-2d3b1824c46f",
   "metadata": {},
   "source": [
    "4. Encontrar los índices de los atípicos (si existen) y cuantificar\n",
    "cuántos registros contienen estos tipos de datos."
   ]
  },
  {
   "cell_type": "code",
   "execution_count": 673,
   "id": "d37519ad-8e38-4552-a85d-a84ee0c7e77e",
   "metadata": {},
   "outputs": [
    {
     "name": "stdout",
     "output_type": "stream",
     "text": [
      "Filas con valores faltantes: 8\n",
      "[33, 34, 35, 36, 262, 263, 264, 265]\n"
     ]
    }
   ],
   "source": [
    "# Get indexes for rows with missing values\n",
    "\n",
    "store.missing_indexes = MissingValues.get_missing_values_indexes(store.data_raw)\n",
    "print (f'Filas con valores faltantes: {len(store.missing_indexes)}')\n",
    "print (store.missing_indexes)"
   ]
  },
  {
   "cell_type": "code",
   "execution_count": 674,
   "id": "e359addb-379b-4dcd-a495-1aa2aeb05d34",
   "metadata": {},
   "outputs": [
    {
     "name": "stdout",
     "output_type": "stream",
     "text": [
      "Valores atípicos: 315\n"
     ]
    }
   ],
   "source": [
    "# Remove rows with missing values\n",
    "\n",
    "store.data_raw = store.data_raw.drop(labels=store.missing_indexes, axis=0)\n",
    "\n",
    "# Make sure all rows are numeric types\n",
    "\n",
    "store.data_raw = store.data_raw.astype({'C33': int})\n",
    "\n",
    "# Get outliners\n",
    "\n",
    "store.outliner_indexes = OutlinerUtils.get_outliner_indexes(store.data_raw)\n",
    "print (f'Valores atípicos: {len(store.outliner_indexes)}')"
   ]
  },
  {
   "cell_type": "markdown",
   "id": "361c9a7d-85f0-4c3e-94cd-19372ce4b578",
   "metadata": {},
   "source": [
    "## Data Preprocessing"
   ]
  },
  {
   "cell_type": "markdown",
   "id": "170aae21-de69-4ac8-86ea-9824b9e83d56",
   "metadata": {},
   "source": [
    "5. En caso que la cantidad de registros que se eliminarían supera\r\n",
    "el 40 % del total del conjunto de datos, se procederá a eliminar\r\n",
    "únicamente el 20 % de forma aleatoria los registros atípicos."
   ]
  },
  {
   "cell_type": "code",
   "execution_count": 677,
   "id": "d474b37e-4a57-4333-ab05-2703f08801d0",
   "metadata": {},
   "outputs": [
    {
     "name": "stdout",
     "output_type": "stream",
     "text": [
      "358\n",
      "287\n"
     ]
    }
   ],
   "source": [
    "print(len(store.data_raw.index))\n",
    "store.data_tmp = OutlinerUtils.delete_random_amount(\n",
    "    store.data_raw\n",
    "    )\n",
    "print(len(store.data_tmp.index))"
   ]
  },
  {
   "cell_type": "code",
   "execution_count": 678,
   "id": "220d29a8-da3c-4dd5-85ea-58bc44704ad6",
   "metadata": {},
   "outputs": [
    {
     "name": "stdout",
     "output_type": "stream",
     "text": [
      "Clase 1 contiene 91 registros\n",
      "Clase 2 contiene 51 registros\n",
      "Clase 3 contiene 57 registros\n",
      "Clase 4 contiene 41 registros\n",
      "Clase 5 contiene 31 registros\n",
      "Clase 6 contiene 16 registros\n",
      "287 registros en total\n"
     ]
    }
   ],
   "source": [
    "# Group by tag\n",
    "\n",
    "store.tags = [1, 2, 3, 4, 5, 6]\n",
    "data_groups = Preprocess.separate_data_by_tags(\n",
    "    store.data_tmp,\n",
    "    store.tags,\n",
    "    store.tag_column\n",
    ")\n",
    "count = 0\n",
    "for tag in store.tags:\n",
    "    print (f\"Clase {tag} contiene {len(data_groups[tag].index)} registros\")\n",
    "    count += len(data_groups[tag].index)\n",
    "\n",
    "print (f\"{count} registros en total\")"
   ]
  },
  {
   "cell_type": "markdown",
   "id": "eeb205c6-9c1d-4ae1-9f4d-5f487c05a0c9",
   "metadata": {},
   "source": [
    "3. Eliminar las clases que tienen menos de 50 registros( 50 casos\n",
    "por enfermedad)"
   ]
  },
  {
   "cell_type": "code",
   "execution_count": 679,
   "id": "53f963da-a49e-4635-8fee-2f36c9401ef7",
   "metadata": {},
   "outputs": [
    {
     "name": "stdout",
     "output_type": "stream",
     "text": [
      "Clase 1 contiene 91 registros\n",
      "Clase 2 contiene 51 registros\n",
      "Clase 3 contiene 57 registros\n",
      "199 registros en total\n"
     ]
    }
   ],
   "source": [
    "Preprocess.drop_rows_less_50(\n",
    "    store.data_tmp,\n",
    "    store.tags,\n",
    "    data_groups\n",
    ")\n",
    "count = 0\n",
    "for tag in store.tags:\n",
    "    print (f\"Clase {tag} contiene {len(data_groups[tag].index)} registros\")\n",
    "    count += len(data_groups[tag].index)\n",
    "    \n",
    "print (f\"{count} registros en total\")"
   ]
  },
  {
   "cell_type": "code",
   "execution_count": 680,
   "id": "48c431b3-9a31-4192-a64a-97828640420d",
   "metadata": {},
   "outputs": [
    {
     "name": "stdout",
     "output_type": "stream",
     "text": [
      "Clase 1 contiene 51 registros\n",
      "Clase 2 contiene 51 registros\n",
      "Clase 3 contiene 51 registros\n",
      "153 registros en total\n"
     ]
    }
   ],
   "source": [
    "Preprocess.balance_data_by_dropping_rows(\n",
    "    store.data_tmp,\n",
    "    store.tags,\n",
    "    data_groups\n",
    ")\n",
    "\n",
    "count = 0\n",
    "for tag in store.tags:\n",
    "    print (f\"Clase {tag} contiene {len(data_groups[tag].index)} registros\")\n",
    "    count += len(data_groups[tag].index)\n",
    "\n",
    "print (f\"{count} registros en total\")"
   ]
  },
  {
   "cell_type": "code",
   "execution_count": 681,
   "id": "b8950145-267e-4b79-bc5a-dcb77a6ca434",
   "metadata": {
    "scrolled": true
   },
   "outputs": [
    {
     "name": "stdout",
     "output_type": "stream",
     "text": [
      "data_train 105 filas. Aprox ~35 filas por clase.\n",
      "data_test 48 filas. Aprox ~16 filas por clase.\n",
      "153 registros en total\n"
     ]
    },
    {
     "name": "stderr",
     "output_type": "stream",
     "text": [
      "D:\\Universidad\\Analítica de datos\\parcial1\\lab-env\\Lib\\site-packages\\numpy\\core\\fromnumeric.py:59: FutureWarning: 'DataFrame.swapaxes' is deprecated and will be removed in a future version. Please use 'DataFrame.transpose' instead.\n",
      "  return bound(*args, **kwds)\n"
     ]
    }
   ],
   "source": [
    "store.data_train, store.data_test = Preprocess.get_training_and_testing_groups(\n",
    "    0.7,\n",
    "    store.tags,\n",
    "    data_groups\n",
    ")\n",
    "\n",
    "print (f\"data_train {len(store.data_train.index)} filas. Aprox ~{int(len(store.data_train.index) / len(store.tags))} filas por clase.\")\n",
    "print (f\"data_test {len(store.data_test.index)} filas. Aprox ~{int(len(store.data_test.index) / len(store.tags))} filas por clase.\")\n",
    "print (f\"{len(store.data_train.index) + len(store.data_test.index)} registros en total\")"
   ]
  },
  {
   "cell_type": "markdown",
   "id": "af7cf79c-7ee1-4371-ad75-11df0a99fef4",
   "metadata": {},
   "source": [
    "## Classification Model"
   ]
  },
  {
   "cell_type": "code",
   "execution_count": 682,
   "id": "8f1b7c8d-90b1-429b-9056-8ff2ec65edae",
   "metadata": {
    "scrolled": true
   },
   "outputs": [
    {
     "name": "stdout",
     "output_type": "stream",
     "text": [
      "Distancia a punto 15: 0.0\n",
      "Distancia a punto 17: 4.69041575982343\n",
      "Distancia a punto 11: 4.795831523312719\n",
      "Distancia a punto 22: 6.082762530298219\n",
      "Distancia a punto 68: 6.082762530298219\n",
      "Distancia a punto 6: 6.48074069840786\n",
      "Distancia a punto 26: 6.48074069840786\n",
      "Distancia a punto 0: 6.708203932499369\n",
      "Distancia a punto 25: 6.708203932499369\n",
      "Distancia a punto 29: 7.211102550927978\n",
      "Distancia a punto 76: 7.280109889280518\n"
     ]
    }
   ],
   "source": [
    "point = pd.DataFrame([store.data_train.iloc[15]])\n",
    "\n",
    "pointDistances = Distances.sort_distances(\n",
    "    Distances.point_distances_against_others(\n",
    "        point,\n",
    "        store.data_train,\n",
    "        store.tag_column,\n",
    "        []\n",
    "    )\n",
    ")\n",
    "\n",
    "for i, dist in enumerate(pointDistances):\n",
    "    if i > 10:\n",
    "        break\n",
    "    print (f\"Distancia a punto {dist.index}: {dist.distance}\")"
   ]
  },
  {
   "cell_type": "code",
   "execution_count": 685,
   "id": "cd1822c2-9d24-4bea-948f-6e3cb4a9f464",
   "metadata": {},
   "outputs": [
    {
     "name": "stdout",
     "output_type": "stream",
     "text": [
      "t: 1.000  2.000  3.000 \n",
      "0  0.000  6.083  7.280 \n",
      "1  4.690  7.810  7.616 \n",
      "2  4.796  8.124  8.367 \n",
      "3  6.083  9.899  10.863 \n",
      "4  6.481  10.247  11.091 \n",
      "5  6.481  10.863  11.314 \n",
      "6  6.708  10.909  11.790 \n",
      "7  6.708  11.832  12.490 \n",
      "8  7.211  14.387  13.077 \n",
      "9  7.483  16.125  13.454 \n"
     ]
    }
   ],
   "source": [
    "dist_groups = Distances.group_point_distances_by_tags(pointDistances, store.tags)\n",
    "Distances.print_contestants_side_by_side (dist_groups, store.tags, 10)"
   ]
  },
  {
   "cell_type": "code",
   "execution_count": 686,
   "id": "5b7a9d49-70e9-4aa5-85e2-c4a5fcbe89f9",
   "metadata": {},
   "outputs": [
    {
     "name": "stdout",
     "output_type": "stream",
     "text": [
      "     C0  C1  C2  C3  C4  C5  C6  C7  C8  C9  ...  C25  C26  C27  C28  C29  \\\n",
      "309   2   3   2   0   1   0   0   0   0   1  ...    2    0    0    0    0   \n",
      "\n",
      "     C30  C31  C32  C33  Class  \n",
      "309    0    2    0   43      1  \n",
      "\n",
      "[1 rows x 35 columns]\n"
     ]
    },
    {
     "data": {
      "text/plain": [
       "1"
      ]
     },
     "execution_count": 686,
     "metadata": {},
     "output_type": "execute_result"
    }
   ],
   "source": [
    "point = pd.DataFrame([store.data_test.iloc[0]])\n",
    "print (point)\n",
    "\n",
    "Categorization.categorize_point(\n",
    "    store.data_train,\n",
    "    point,\n",
    "    10, # k\n",
    "    store.tags,\n",
    "    store.tag_column\n",
    ")"
   ]
  },
  {
   "cell_type": "markdown",
   "id": "8b0b4250-b921-43bb-995f-5ccc34757489",
   "metadata": {},
   "source": [
    "## TO DO\n",
    "6. Se debe imprimir la matriz de confusión por cada validación del\r\n",
    "numeral anterior"
   ]
  },
  {
   "cell_type": "markdown",
   "id": "fe3a7bde-5abe-46e3-8d85-3c8019371f17",
   "metadata": {},
   "source": [
    "## TO DO\n",
    "7. El desempeño de este modelo debe ser encontrado al calcular\n",
    "las métricas de sensibilidad, especificidad y precisión. "
   ]
  },
  {
   "cell_type": "markdown",
   "id": "794c980f-2981-4ab3-8a73-54cbb806f2d8",
   "metadata": {},
   "source": [
    "## TO DO\n",
    "8. Gráfico de curva ROC"
   ]
  },
  {
   "cell_type": "markdown",
   "id": "2e8d1fc4-455c-42ab-aeff-9b6a767d56a2",
   "metadata": {},
   "source": [
    "## TO DO\n",
    "9. Elegir modelo con el mejor desempeño posible"
   ]
  },
  {
   "cell_type": "code",
   "execution_count": 553,
   "id": "dbd20862-535f-4b05-973b-684d44f5accf",
   "metadata": {},
   "outputs": [
    {
     "ename": "ModuleNotFoundError",
     "evalue": "No module named 'matplotlib'",
     "output_type": "error",
     "traceback": [
      "\u001b[1;31m---------------------------------------------------------------------------\u001b[0m",
      "\u001b[1;31mModuleNotFoundError\u001b[0m                       Traceback (most recent call last)",
      "Cell \u001b[1;32mIn[553], line 1\u001b[0m\n\u001b[1;32m----> 1\u001b[0m \u001b[38;5;28;01mimport\u001b[39;00m \u001b[38;5;21;01mmatplotlib\u001b[39;00m\u001b[38;5;21;01m.\u001b[39;00m\u001b[38;5;21;01mpyplot\u001b[39;00m \u001b[38;5;28;01mas\u001b[39;00m \u001b[38;5;21;01mplt\u001b[39;00m\n\u001b[0;32m      2\u001b[0m \u001b[38;5;28;01mimport\u001b[39;00m \u001b[38;5;21;01mnumpy\u001b[39;00m\n\u001b[0;32m      3\u001b[0m \u001b[38;5;28;01mfrom\u001b[39;00m \u001b[38;5;21;01msklearn\u001b[39;00m \u001b[38;5;28;01mimport\u001b[39;00m metrics\n",
      "\u001b[1;31mModuleNotFoundError\u001b[0m: No module named 'matplotlib'"
     ]
    }
   ],
   "source": [
    "import matplotlib.pyplot as plt\n",
    "import numpy\n",
    "from sklearn import metrics\n",
    "\n",
    "# Generar datos de ejemplo de etiquetas reales y predichas\n",
    "actual = numpy.random.binomial(1,.9,size = 1000)\n",
    "predicted = numpy.random.binomial(1,.9,size = 1000)\n",
    "\n",
    "# Crear la matriz de confusión utilizando sklearn\n",
    "confusion_matrix = metrics.confusion_matrix(actual, predicted)\n",
    "\n",
    "# Crear la visualización de la matriz de confusión\n",
    "cm_display = metrics.ConfusionMatrixDisplay(confusion_matrix = confusion_matrix, display_labels = [False, True])\n",
    "\n",
    "# Graficar la matriz de confusión\n",
    "cm_display.plot()\n",
    "plt.show()"
   ]
  }
 ],
 "metadata": {
  "kernelspec": {
   "display_name": "Python 3 (ipykernel)",
   "language": "python",
   "name": "python3"
  },
  "language_info": {
   "codemirror_mode": {
    "name": "ipython",
    "version": 3
   },
   "file_extension": ".py",
   "mimetype": "text/x-python",
   "name": "python",
   "nbconvert_exporter": "python",
   "pygments_lexer": "ipython3",
   "version": "3.11.5"
  }
 },
 "nbformat": 4,
 "nbformat_minor": 5
}
