{
 "cells": [
  {
   "cell_type": "markdown",
   "id": "7ebe940c-d446-4ff9-9dc5-e9d7dc710727",
   "metadata": {},
   "source": [
    "# Logit Regression Laboratory\n",
    "\n",
    "Un estudio sobre condiciones dermatológicas con datos del ICM Machine Learning Repository.\n",
    "\n",
    "### Presentado por\n",
    "\n",
    "- Natalia Carolina Beleno Carrascal\n",
    "- Whayner Eduardo Porras Rodríguez"
   ]
  },
  {
   "cell_type": "markdown",
   "id": "e7d03d15-8127-4e7a-a15c-562250512454",
   "metadata": {},
   "source": [
    "### Código fuente y librerías\n",
    "\n",
    "\n",
    "\n",
    "El código fuente del proyecto se manejo cómo librerías para tener una organización adecuada. La documentación de las funciones puede ser encontrada en cada archivo fuente. Se llevo la trazabilidad del desarrollo en la plataforma github, en la cual encuentra el repositorio https://github.com/Woynert/logit-regression-lab.\n",
    "\n",
    "Se hizo la separación de funcionalidad deacuerdo al tema que cubre y la sección del trabajo que abarca. Se siguió la filosofía de tener métodos estaticos lo cual no emplea variables globales sino que todos los datos necesarios para el calculo se pasan a través de parametros. Esto permite correr multiples tareas en paralelo sin que existan colisiones.\n",
    "\n",
    "Las librerías implementadas incluyen las siguiente estructura. (Puede encontrar el código en el directorio `src`)\n",
    "\n",
    "```\n",
    "├── cleaning\n",
    "│   ├── MissingValues.py\n",
    "│   └── OutlinerUtils.py\n",
    "├── learning\n",
    "│   ├── Categorization.py\n",
    "│   ├── Distances.py\n",
    "│   ├── Preprocess.py\n",
    "│   └── knn.py\n",
    "└── statistics\n",
    "    ├── MetaStatistics.py\n",
    "    └── Statistics.py\n",
    "```\n"
   ]
  },
  {
   "cell_type": "code",
   "execution_count": 86,
   "id": "c16ba87a-4077-4750-9731-498fb766c18f",
   "metadata": {},
   "outputs": [
    {
     "name": "stdout",
     "output_type": "stream",
     "text": [
      "The autoreload extension is already loaded. To reload it, use:\n",
      "  %reload_ext autoreload\n"
     ]
    }
   ],
   "source": [
    "# Above sentences help auto reload modules \n",
    "\n",
    "%load_ext autoreload\n",
    "%autoreload 2\n",
    "\n",
    "# Import system libraries\n",
    "from random import shuffle\n",
    "from typing import List\n",
    "import importlib\n",
    "import numpy\n",
    "import pandas as pd\n",
    "import plotly.express as px\n",
    "import matplotlib.pyplot as plt\n",
    "\n",
    "# Import custom libraries\n",
    "\n",
    "import sys\n",
    "sys.path.append('./src/cleaning')\n",
    "sys.path.append('./src/learning')\n",
    "sys.path.append('./src/statistics')\n",
    "\n",
    "import OutlinerUtils\n",
    "import MissingValues\n",
    "import Preprocess\n",
    "import Distances\n",
    "import Categorization\n",
    "import Statistics\n",
    "import MetaStatistics"
   ]
  },
  {
   "cell_type": "code",
   "execution_count": 5,
   "id": "1ef6454e-bdfb-4224-b9dc-afd6f08f02f1",
   "metadata": {},
   "outputs": [],
   "source": [
    "# Here we store all global variables\n",
    "\n",
    "class Store:\n",
    "    tag_column: str = \"Class\"\n",
    "    \n",
    "    data_raw: pd.DataFrame = None\n",
    "    data_tmp: pd.DataFrame = None\n",
    "\n",
    "    data_train: pd.DataFrame = None\n",
    "    data_test: pd.DataFrame = None\n",
    "    \n",
    "    missing_indexes: List[int] = []\n",
    "    outliner_indexes: List[int] = []\n",
    "    tags: List[str] = []\n",
    "\n",
    "store = Store()"
   ]
  },
  {
   "cell_type": "code",
   "execution_count": 6,
   "id": "b8f3224d-7eb6-4975-9513-aa7f508b9aa9",
   "metadata": {},
   "outputs": [
    {
     "data": {
      "text/html": [
       "<div>\n",
       "<style scoped>\n",
       "    .dataframe tbody tr th:only-of-type {\n",
       "        vertical-align: middle;\n",
       "    }\n",
       "\n",
       "    .dataframe tbody tr th {\n",
       "        vertical-align: top;\n",
       "    }\n",
       "\n",
       "    .dataframe thead th {\n",
       "        text-align: right;\n",
       "    }\n",
       "</style>\n",
       "<table border=\"1\" class=\"dataframe\">\n",
       "  <thead>\n",
       "    <tr style=\"text-align: right;\">\n",
       "      <th></th>\n",
       "      <th>C0</th>\n",
       "      <th>C1</th>\n",
       "      <th>C2</th>\n",
       "      <th>C3</th>\n",
       "      <th>C4</th>\n",
       "      <th>C5</th>\n",
       "      <th>C6</th>\n",
       "      <th>C7</th>\n",
       "      <th>C8</th>\n",
       "      <th>C9</th>\n",
       "      <th>...</th>\n",
       "      <th>C25</th>\n",
       "      <th>C26</th>\n",
       "      <th>C27</th>\n",
       "      <th>C28</th>\n",
       "      <th>C29</th>\n",
       "      <th>C30</th>\n",
       "      <th>C31</th>\n",
       "      <th>C32</th>\n",
       "      <th>C33</th>\n",
       "      <th>Class</th>\n",
       "    </tr>\n",
       "  </thead>\n",
       "  <tbody>\n",
       "    <tr>\n",
       "      <th>0</th>\n",
       "      <td>2</td>\n",
       "      <td>2</td>\n",
       "      <td>0</td>\n",
       "      <td>3</td>\n",
       "      <td>0</td>\n",
       "      <td>0</td>\n",
       "      <td>0</td>\n",
       "      <td>0</td>\n",
       "      <td>1</td>\n",
       "      <td>0</td>\n",
       "      <td>...</td>\n",
       "      <td>0</td>\n",
       "      <td>0</td>\n",
       "      <td>3</td>\n",
       "      <td>0</td>\n",
       "      <td>0</td>\n",
       "      <td>0</td>\n",
       "      <td>1</td>\n",
       "      <td>0</td>\n",
       "      <td>55</td>\n",
       "      <td>2</td>\n",
       "    </tr>\n",
       "    <tr>\n",
       "      <th>1</th>\n",
       "      <td>3</td>\n",
       "      <td>3</td>\n",
       "      <td>3</td>\n",
       "      <td>2</td>\n",
       "      <td>1</td>\n",
       "      <td>0</td>\n",
       "      <td>0</td>\n",
       "      <td>0</td>\n",
       "      <td>1</td>\n",
       "      <td>1</td>\n",
       "      <td>...</td>\n",
       "      <td>0</td>\n",
       "      <td>0</td>\n",
       "      <td>0</td>\n",
       "      <td>0</td>\n",
       "      <td>0</td>\n",
       "      <td>0</td>\n",
       "      <td>1</td>\n",
       "      <td>0</td>\n",
       "      <td>8</td>\n",
       "      <td>1</td>\n",
       "    </tr>\n",
       "    <tr>\n",
       "      <th>2</th>\n",
       "      <td>2</td>\n",
       "      <td>1</td>\n",
       "      <td>2</td>\n",
       "      <td>3</td>\n",
       "      <td>1</td>\n",
       "      <td>3</td>\n",
       "      <td>0</td>\n",
       "      <td>3</td>\n",
       "      <td>0</td>\n",
       "      <td>0</td>\n",
       "      <td>...</td>\n",
       "      <td>0</td>\n",
       "      <td>2</td>\n",
       "      <td>3</td>\n",
       "      <td>2</td>\n",
       "      <td>0</td>\n",
       "      <td>0</td>\n",
       "      <td>2</td>\n",
       "      <td>3</td>\n",
       "      <td>26</td>\n",
       "      <td>3</td>\n",
       "    </tr>\n",
       "    <tr>\n",
       "      <th>3</th>\n",
       "      <td>2</td>\n",
       "      <td>2</td>\n",
       "      <td>2</td>\n",
       "      <td>0</td>\n",
       "      <td>0</td>\n",
       "      <td>0</td>\n",
       "      <td>0</td>\n",
       "      <td>0</td>\n",
       "      <td>3</td>\n",
       "      <td>2</td>\n",
       "      <td>...</td>\n",
       "      <td>3</td>\n",
       "      <td>0</td>\n",
       "      <td>0</td>\n",
       "      <td>0</td>\n",
       "      <td>0</td>\n",
       "      <td>0</td>\n",
       "      <td>3</td>\n",
       "      <td>0</td>\n",
       "      <td>40</td>\n",
       "      <td>1</td>\n",
       "    </tr>\n",
       "    <tr>\n",
       "      <th>4</th>\n",
       "      <td>2</td>\n",
       "      <td>3</td>\n",
       "      <td>2</td>\n",
       "      <td>2</td>\n",
       "      <td>2</td>\n",
       "      <td>2</td>\n",
       "      <td>0</td>\n",
       "      <td>2</td>\n",
       "      <td>0</td>\n",
       "      <td>0</td>\n",
       "      <td>...</td>\n",
       "      <td>2</td>\n",
       "      <td>3</td>\n",
       "      <td>2</td>\n",
       "      <td>3</td>\n",
       "      <td>0</td>\n",
       "      <td>0</td>\n",
       "      <td>2</td>\n",
       "      <td>3</td>\n",
       "      <td>45</td>\n",
       "      <td>3</td>\n",
       "    </tr>\n",
       "    <tr>\n",
       "      <th>...</th>\n",
       "      <td>...</td>\n",
       "      <td>...</td>\n",
       "      <td>...</td>\n",
       "      <td>...</td>\n",
       "      <td>...</td>\n",
       "      <td>...</td>\n",
       "      <td>...</td>\n",
       "      <td>...</td>\n",
       "      <td>...</td>\n",
       "      <td>...</td>\n",
       "      <td>...</td>\n",
       "      <td>...</td>\n",
       "      <td>...</td>\n",
       "      <td>...</td>\n",
       "      <td>...</td>\n",
       "      <td>...</td>\n",
       "      <td>...</td>\n",
       "      <td>...</td>\n",
       "      <td>...</td>\n",
       "      <td>...</td>\n",
       "      <td>...</td>\n",
       "    </tr>\n",
       "    <tr>\n",
       "      <th>361</th>\n",
       "      <td>2</td>\n",
       "      <td>1</td>\n",
       "      <td>1</td>\n",
       "      <td>0</td>\n",
       "      <td>1</td>\n",
       "      <td>0</td>\n",
       "      <td>0</td>\n",
       "      <td>0</td>\n",
       "      <td>0</td>\n",
       "      <td>0</td>\n",
       "      <td>...</td>\n",
       "      <td>0</td>\n",
       "      <td>0</td>\n",
       "      <td>1</td>\n",
       "      <td>0</td>\n",
       "      <td>0</td>\n",
       "      <td>0</td>\n",
       "      <td>2</td>\n",
       "      <td>0</td>\n",
       "      <td>25</td>\n",
       "      <td>4</td>\n",
       "    </tr>\n",
       "    <tr>\n",
       "      <th>362</th>\n",
       "      <td>3</td>\n",
       "      <td>2</td>\n",
       "      <td>1</td>\n",
       "      <td>0</td>\n",
       "      <td>1</td>\n",
       "      <td>0</td>\n",
       "      <td>0</td>\n",
       "      <td>0</td>\n",
       "      <td>0</td>\n",
       "      <td>0</td>\n",
       "      <td>...</td>\n",
       "      <td>1</td>\n",
       "      <td>0</td>\n",
       "      <td>1</td>\n",
       "      <td>0</td>\n",
       "      <td>0</td>\n",
       "      <td>0</td>\n",
       "      <td>2</td>\n",
       "      <td>0</td>\n",
       "      <td>36</td>\n",
       "      <td>4</td>\n",
       "    </tr>\n",
       "    <tr>\n",
       "      <th>363</th>\n",
       "      <td>3</td>\n",
       "      <td>2</td>\n",
       "      <td>2</td>\n",
       "      <td>2</td>\n",
       "      <td>3</td>\n",
       "      <td>2</td>\n",
       "      <td>0</td>\n",
       "      <td>2</td>\n",
       "      <td>0</td>\n",
       "      <td>0</td>\n",
       "      <td>...</td>\n",
       "      <td>0</td>\n",
       "      <td>3</td>\n",
       "      <td>0</td>\n",
       "      <td>3</td>\n",
       "      <td>0</td>\n",
       "      <td>0</td>\n",
       "      <td>2</td>\n",
       "      <td>3</td>\n",
       "      <td>28</td>\n",
       "      <td>3</td>\n",
       "    </tr>\n",
       "    <tr>\n",
       "      <th>364</th>\n",
       "      <td>2</td>\n",
       "      <td>1</td>\n",
       "      <td>3</td>\n",
       "      <td>1</td>\n",
       "      <td>2</td>\n",
       "      <td>3</td>\n",
       "      <td>0</td>\n",
       "      <td>2</td>\n",
       "      <td>0</td>\n",
       "      <td>0</td>\n",
       "      <td>...</td>\n",
       "      <td>0</td>\n",
       "      <td>2</td>\n",
       "      <td>0</td>\n",
       "      <td>1</td>\n",
       "      <td>0</td>\n",
       "      <td>0</td>\n",
       "      <td>2</td>\n",
       "      <td>3</td>\n",
       "      <td>50</td>\n",
       "      <td>3</td>\n",
       "    </tr>\n",
       "    <tr>\n",
       "      <th>365</th>\n",
       "      <td>3</td>\n",
       "      <td>2</td>\n",
       "      <td>2</td>\n",
       "      <td>0</td>\n",
       "      <td>0</td>\n",
       "      <td>0</td>\n",
       "      <td>0</td>\n",
       "      <td>0</td>\n",
       "      <td>3</td>\n",
       "      <td>3</td>\n",
       "      <td>...</td>\n",
       "      <td>2</td>\n",
       "      <td>0</td>\n",
       "      <td>0</td>\n",
       "      <td>0</td>\n",
       "      <td>0</td>\n",
       "      <td>0</td>\n",
       "      <td>3</td>\n",
       "      <td>0</td>\n",
       "      <td>35</td>\n",
       "      <td>1</td>\n",
       "    </tr>\n",
       "  </tbody>\n",
       "</table>\n",
       "<p>366 rows × 35 columns</p>\n",
       "</div>"
      ],
      "text/plain": [
       "     C0  C1  C2  C3  C4  C5  C6  C7  C8  C9  ...  C25  C26  C27  C28  C29  \\\n",
       "0     2   2   0   3   0   0   0   0   1   0  ...    0    0    3    0    0   \n",
       "1     3   3   3   2   1   0   0   0   1   1  ...    0    0    0    0    0   \n",
       "2     2   1   2   3   1   3   0   3   0   0  ...    0    2    3    2    0   \n",
       "3     2   2   2   0   0   0   0   0   3   2  ...    3    0    0    0    0   \n",
       "4     2   3   2   2   2   2   0   2   0   0  ...    2    3    2    3    0   \n",
       "..   ..  ..  ..  ..  ..  ..  ..  ..  ..  ..  ...  ...  ...  ...  ...  ...   \n",
       "361   2   1   1   0   1   0   0   0   0   0  ...    0    0    1    0    0   \n",
       "362   3   2   1   0   1   0   0   0   0   0  ...    1    0    1    0    0   \n",
       "363   3   2   2   2   3   2   0   2   0   0  ...    0    3    0    3    0   \n",
       "364   2   1   3   1   2   3   0   2   0   0  ...    0    2    0    1    0   \n",
       "365   3   2   2   0   0   0   0   0   3   3  ...    2    0    0    0    0   \n",
       "\n",
       "     C30  C31  C32  C33  Class  \n",
       "0      0    1    0   55      2  \n",
       "1      0    1    0    8      1  \n",
       "2      0    2    3   26      3  \n",
       "3      0    3    0   40      1  \n",
       "4      0    2    3   45      3  \n",
       "..   ...  ...  ...  ...    ...  \n",
       "361    0    2    0   25      4  \n",
       "362    0    2    0   36      4  \n",
       "363    0    2    3   28      3  \n",
       "364    0    2    3   50      3  \n",
       "365    0    3    0   35      1  \n",
       "\n",
       "[366 rows x 35 columns]"
      ]
     },
     "execution_count": 6,
     "metadata": {},
     "output_type": "execute_result"
    }
   ],
   "source": [
    "# Import data\n",
    "\n",
    "store.data_raw = pd.read_csv('./data/dermatology/dermatology-with-labels.data')\n",
    "store.data_raw"
   ]
  },
  {
   "cell_type": "markdown",
   "id": "af13463a-e403-4342-8796-f817c894139b",
   "metadata": {},
   "source": [
    "## Sección de Gráficas\n",
    "\n",
    "(1). Se debe visualizar relaciones entre variables usando los\n",
    "métodos vistos en clase.\n",
    "\n",
    "Ver archivo adjunto (`graphs.ipynb`)"
   ]
  },
  {
   "cell_type": "markdown",
   "id": "59a5e0ae-7505-4860-9b79-de9b89e5051b",
   "metadata": {},
   "source": [
    "## Data Cleaning"
   ]
  },
  {
   "cell_type": "markdown",
   "id": "bf236a85-d51c-4910-ab84-70b93652e93b",
   "metadata": {},
   "source": [
    "(2). Encontrar valores atípicos o faltantes entre las columnas de los\r\n",
    "registros. En caso de que existan, cuantificarlos (contarlos) para\r\n",
    "conocer el número total de ello\n",
    "\n",
    "(4). Encontrar los índices de los atípicos (si existen) y cuantificar\n",
    "cuántos registros contienen estos tipos de datos.s."
   ]
  },
  {
   "cell_type": "code",
   "execution_count": 7,
   "id": "d37519ad-8e38-4552-a85d-a84ee0c7e77e",
   "metadata": {},
   "outputs": [
    {
     "name": "stdout",
     "output_type": "stream",
     "text": [
      "Filas con valores faltantes: 8\n",
      "[33, 34, 35, 36, 262, 263, 264, 265]\n"
     ]
    }
   ],
   "source": [
    "# Get indexes for rows with missing values\n",
    "\n",
    "store.missing_indexes = MissingValues.get_missing_values_indexes(store.data_raw)\n",
    "print (f'Filas con valores faltantes: {len(store.missing_indexes)}')\n",
    "print (store.missing_indexes)"
   ]
  },
  {
   "cell_type": "code",
   "execution_count": 8,
   "id": "e359addb-379b-4dcd-a495-1aa2aeb05d34",
   "metadata": {},
   "outputs": [
    {
     "name": "stdout",
     "output_type": "stream",
     "text": [
      "Valores atípicos: 315\n"
     ]
    }
   ],
   "source": [
    "# Remove rows with missing values\n",
    "\n",
    "store.data_raw = store.data_raw.drop(labels=store.missing_indexes, axis=0)\n",
    "\n",
    "# Make sure all rows are numeric types\n",
    "\n",
    "store.data_raw = store.data_raw.astype({'C33': int})\n",
    "\n",
    "# Get outliners\n",
    "\n",
    "store.outliner_indexes = OutlinerUtils.get_outliner_indexes(store.data_raw)\n",
    "print (f'Valores atípicos: {len(store.outliner_indexes)}')"
   ]
  },
  {
   "cell_type": "markdown",
   "id": "361c9a7d-85f0-4c3e-94cd-19372ce4b578",
   "metadata": {},
   "source": [
    "## Data Preprocessing"
   ]
  },
  {
   "cell_type": "markdown",
   "id": "170aae21-de69-4ac8-86ea-9824b9e83d56",
   "metadata": {},
   "source": [
    "(5). En caso que la cantidad de registros que se eliminarían supera\r\n",
    "el 40 % del total del conjunto de datos, se procederá a eliminar\r\n",
    "únicamente el 20 % de forma aleatoria los registros atípicos."
   ]
  },
  {
   "cell_type": "code",
   "execution_count": 9,
   "id": "d474b37e-4a57-4333-ab05-2703f08801d0",
   "metadata": {},
   "outputs": [
    {
     "name": "stdout",
     "output_type": "stream",
     "text": [
      "358\n",
      "287\n"
     ]
    }
   ],
   "source": [
    "print(len(store.data_raw.index))\n",
    "store.data_tmp = OutlinerUtils.delete_random_amount(\n",
    "    store.data_raw\n",
    "    )\n",
    "print(len(store.data_tmp.index))"
   ]
  },
  {
   "cell_type": "code",
   "execution_count": 10,
   "id": "220d29a8-da3c-4dd5-85ea-58bc44704ad6",
   "metadata": {},
   "outputs": [
    {
     "name": "stdout",
     "output_type": "stream",
     "text": [
      "Clase 1 contiene 87 registros\n",
      "Clase 2 contiene 51 registros\n",
      "Clase 3 contiene 51 registros\n",
      "Clase 4 contiene 41 registros\n",
      "Clase 5 contiene 41 registros\n",
      "Clase 6 contiene 16 registros\n",
      "287 registros en total\n"
     ]
    }
   ],
   "source": [
    "# Group by tag\n",
    "\n",
    "store.tags = [1, 2, 3, 4, 5, 6]\n",
    "data_groups = Preprocess.separate_data_by_tags(\n",
    "    store.data_tmp,\n",
    "    store.tags,\n",
    "    store.tag_column\n",
    ")\n",
    "count = 0\n",
    "for tag in store.tags:\n",
    "    print (f\"Clase {tag} contiene {len(data_groups[tag].index)} registros\")\n",
    "    count += len(data_groups[tag].index)\n",
    "\n",
    "print (f\"{count} registros en total\")"
   ]
  },
  {
   "cell_type": "markdown",
   "id": "eeb205c6-9c1d-4ae1-9f4d-5f487c05a0c9",
   "metadata": {},
   "source": [
    "(3). Eliminar las clases que tienen menos de 50 registros( 50 casos\n",
    "por enfermedad)"
   ]
  },
  {
   "cell_type": "code",
   "execution_count": 11,
   "id": "53f963da-a49e-4635-8fee-2f36c9401ef7",
   "metadata": {},
   "outputs": [
    {
     "name": "stdout",
     "output_type": "stream",
     "text": [
      "Clase 1 contiene 87 registros\n",
      "Clase 2 contiene 51 registros\n",
      "Clase 3 contiene 51 registros\n",
      "189 registros en total\n"
     ]
    }
   ],
   "source": [
    "Preprocess.drop_rows_less_50(\n",
    "    store.data_tmp,\n",
    "    store.tags,\n",
    "    data_groups\n",
    ")\n",
    "count = 0\n",
    "for tag in store.tags:\n",
    "    print (f\"Clase {tag} contiene {len(data_groups[tag].index)} registros\")\n",
    "    count += len(data_groups[tag].index)\n",
    "    \n",
    "print (f\"{count} registros en total\")"
   ]
  },
  {
   "cell_type": "code",
   "execution_count": 12,
   "id": "48c431b3-9a31-4192-a64a-97828640420d",
   "metadata": {},
   "outputs": [
    {
     "name": "stdout",
     "output_type": "stream",
     "text": [
      "Clase 1 contiene 51 registros\n",
      "Clase 2 contiene 51 registros\n",
      "Clase 3 contiene 51 registros\n",
      "153 registros en total\n"
     ]
    }
   ],
   "source": [
    "Preprocess.balance_data_by_dropping_rows(\n",
    "    store.data_tmp,\n",
    "    store.tags,\n",
    "    data_groups\n",
    ")\n",
    "\n",
    "count = 0\n",
    "for tag in store.tags:\n",
    "    print (f\"Clase {tag} contiene {len(data_groups[tag].index)} registros\")\n",
    "    count += len(data_groups[tag].index)\n",
    "\n",
    "print (f\"{count} registros en total\")"
   ]
  },
  {
   "cell_type": "code",
   "execution_count": 13,
   "id": "b8950145-267e-4b79-bc5a-dcb77a6ca434",
   "metadata": {
    "scrolled": true
   },
   "outputs": [
    {
     "name": "stdout",
     "output_type": "stream",
     "text": [
      "data_train 105 filas. Aprox ~35 filas por clase.\n",
      "data_test 48 filas. Aprox ~16 filas por clase.\n",
      "153 registros en total\n"
     ]
    },
    {
     "name": "stderr",
     "output_type": "stream",
     "text": [
      "/misc/dev/workgit/logit-regression-lab/lab-env/lib/python3.11/site-packages/numpy/core/fromnumeric.py:59: FutureWarning: 'DataFrame.swapaxes' is deprecated and will be removed in a future version. Please use 'DataFrame.transpose' instead.\n",
      "  return bound(*args, **kwds)\n"
     ]
    }
   ],
   "source": [
    "store.data_train, store.data_test = Preprocess.get_training_and_testing_groups(\n",
    "    0.7,\n",
    "    store.tags,\n",
    "    data_groups\n",
    ")\n",
    "\n",
    "print (f\"data_train {len(store.data_train.index)} filas. Aprox ~{int(len(store.data_train.index) / len(store.tags))} filas por clase.\")\n",
    "print (f\"data_test {len(store.data_test.index)} filas. Aprox ~{int(len(store.data_test.index) / len(store.tags))} filas por clase.\")\n",
    "print (f\"{len(store.data_train.index) + len(store.data_test.index)} registros en total\")"
   ]
  },
  {
   "cell_type": "markdown",
   "id": "af7cf79c-7ee1-4371-ad75-11df0a99fef4",
   "metadata": {},
   "source": [
    "## Modelo de Clasificación"
   ]
  },
  {
   "cell_type": "code",
   "execution_count": 14,
   "id": "8f1b7c8d-90b1-429b-9056-8ff2ec65edae",
   "metadata": {
    "scrolled": true
   },
   "outputs": [
    {
     "name": "stdout",
     "output_type": "stream",
     "text": [
      "Distancia a punto 15: 0.0\n",
      "Distancia a punto 19: 3.605551275463989\n",
      "Distancia a punto 11: 3.872983346207417\n",
      "Distancia a punto 23: 4.0\n",
      "Distancia a punto 26: 4.123105625617661\n",
      "Distancia a punto 5: 4.69041575982343\n",
      "Distancia a punto 18: 4.795831523312719\n",
      "Distancia a punto 25: 5.0990195135927845\n",
      "Distancia a punto 4: 5.830951894845301\n",
      "Distancia a punto 9: 6.082762530298219\n",
      "Distancia a punto 0: 6.164414002968976\n"
     ]
    }
   ],
   "source": [
    "point = pd.DataFrame([store.data_train.iloc[15]])\n",
    "\n",
    "pointDistances = Distances.sort_distances(\n",
    "    Distances.point_distances_against_others(\n",
    "        point,\n",
    "        store.data_train,\n",
    "        store.tag_column,\n",
    "        []\n",
    "    )\n",
    ")\n",
    "\n",
    "for i, dist in enumerate(pointDistances):\n",
    "    if i > 10:\n",
    "        break\n",
    "    print (f\"Distancia a punto {dist.index}: {dist.distance}\")"
   ]
  },
  {
   "cell_type": "code",
   "execution_count": 15,
   "id": "cd1822c2-9d24-4bea-948f-6e3cb4a9f464",
   "metadata": {},
   "outputs": [
    {
     "name": "stdout",
     "output_type": "stream",
     "text": [
      "t: 1.000  2.000  3.000 \n",
      "0  0.000  8.660  8.307 \n",
      "1  3.606  10.392  10.488 \n",
      "2  3.873  10.440  11.091 \n",
      "3  4.000  11.091  11.619 \n",
      "4  4.123  11.874  12.207 \n",
      "5  4.690  14.491  12.767 \n",
      "6  4.796  16.462  13.000 \n",
      "7  5.099  18.111  13.416 \n",
      "8  5.831  18.138  13.784 \n",
      "9  6.083  19.900  14.832 \n"
     ]
    }
   ],
   "source": [
    "dist_groups = Distances.group_point_distances_by_tags(pointDistances, store.tags)\n",
    "Distances.print_contestants_side_by_side (dist_groups, store.tags, 10)"
   ]
  },
  {
   "cell_type": "code",
   "execution_count": 32,
   "id": "5b7a9d49-70e9-4aa5-85e2-c4a5fcbe89f9",
   "metadata": {},
   "outputs": [
    {
     "name": "stdout",
     "output_type": "stream",
     "text": [
      "     C0  C1  C2  C3  C4  C5  C6  C7  C8  C9  ...  C25  C26  C27  C28  C29  \\\n",
      "309   2   3   2   0   1   0   0   0   0   1  ...    2    0    0    0    0   \n",
      "\n",
      "     C30  C31  C32  C33  Class  \n",
      "309    0    2    0   43      1  \n",
      "\n",
      "[1 rows x 35 columns]\n"
     ]
    },
    {
     "data": {
      "text/plain": [
       "1"
      ]
     },
     "execution_count": 32,
     "metadata": {},
     "output_type": "execute_result"
    }
   ],
   "source": [
    "point = pd.DataFrame([store.data_test.iloc[0]])\n",
    "print (point)\n",
    "\n",
    "Categorization.categorize_point(\n",
    "    store.data_train,\n",
    "    point,\n",
    "    10, # k\n",
    "    store.tags,\n",
    "    store.tag_column\n",
    ")"
   ]
  },
  {
   "cell_type": "markdown",
   "id": "8b0b4250-b921-43bb-995f-5ccc34757489",
   "metadata": {},
   "source": [
    "# Matriz de confusión\n",
    "(6). Se debe imprimir la matriz de confusión por cada validación del\r\n",
    "numeral anterior"
   ]
  },
  {
   "cell_type": "code",
   "execution_count": 132,
   "id": "d7729cfa-99cb-4f1b-a923-6db8b44788b4",
   "metadata": {},
   "outputs": [],
   "source": [
    "def calculate_each_confusion_matrix(\n",
    "        k: int,\n",
    "        data_train: pd.DataFrame,\n",
    "        data_test: pd.DataFrame,\n",
    "        tags: List[str],\n",
    "        tag_column: str,\n",
    "        tag_objective: List[str]\n",
    "    ) -> dict:\n",
    "    \n",
    "    confusion_matrix = {\n",
    "        'TP': 0,\n",
    "        'FP': 0,\n",
    "        'TN': 0,\n",
    "        'FN': 0\n",
    "    }\n",
    "    \n",
    "    for i in range(len(data_test.index)):\n",
    "    \n",
    "        # get point\n",
    "        point = pd.DataFrame([data_test.iloc[i]])\n",
    "        \n",
    "        # predict using model\n",
    "        predicted_tag = Categorization.categorize_point(\n",
    "            data_train,\n",
    "            point,\n",
    "            k,  # k\n",
    "            tags,\n",
    "            tag_column\n",
    "        )\n",
    "        \n",
    "        # Etiqueta real\n",
    "        actual_tag = point.iloc[0][tag_column]\n",
    "        \n",
    "        # resultado de interes\n",
    "        if predicted_tag in tag_objective:\n",
    "        \n",
    "            # clasificacion correcta\n",
    "            if predicted_tag == actual_tag:\n",
    "                confusion_matrix['TP'] += 1\n",
    "            else:\n",
    "                confusion_matrix['FP'] += 1\n",
    "        \n",
    "        # no nos dió el valor de interes\n",
    "        else:\n",
    "            # clasificacion incorrecta\n",
    "            if predicted_tag == actual_tag:\n",
    "                confusion_matrix['TN'] += 1\n",
    "            else:\n",
    "                confusion_matrix['FN'] += 1\n",
    "    \n",
    "    return confusion_matrix"
   ]
  },
  {
   "cell_type": "code",
   "execution_count": 166,
   "id": "19c42ed0-cb99-4c26-ac5f-1221057cf2b4",
   "metadata": {},
   "outputs": [],
   "source": [
    "from typing import List, Dict\n",
    "import pandas as pd\n",
    "\n",
    "def calculate_global_confusion_matrix(\n",
    "        k: int,\n",
    "        data_train: pd.DataFrame,\n",
    "        data_test: pd.DataFrame,\n",
    "        data_test: pd.DataFrame,\n",
    "        tags: List[str],\n",
    "        tag_column: str\n",
    "    ) -> Dict[str, int]:\n",
    "\n",
    "    sum_TP=0\n",
    "    sum_FP=0\n",
    "    sum_TN=0 \n",
    "    sum_FN = 0\n",
    "    \n",
    "    tag_objective = []\n",
    "    \n",
    "    for i in range(len(tags)):\n",
    "        tag_objective.append(tags[i])\n",
    "        \n",
    "        confusion_matrix = calculate_each_confusion_matrix(k, data_train, data_test, tags, tag_column, tag_objective)\n",
    "        \n",
    "        sum_TP += confusion_matrix['TP']\n",
    "        sum_FP += confusion_matrix['FP']\n",
    "        sum_TN += confusion_matrix['TN']\n",
    "        sum_FN += confusion_matrix['FN']\n",
    "        \n",
    "        tag_objective.remove(tags[i])\n",
    "\n",
    "    \n",
    "    global_confusion_matrix = {\n",
    "        'TP': sum_TP,\n",
    "        'FP': sum_FP,\n",
    "        'TN': sum_TN,\n",
    "        'FN': sum_FN\n",
    "    }\n",
    "\n",
    "    return global_confusion_matrix"
   ]
  },
  {
   "cell_type": "markdown",
   "id": "203ad321-b053-4554-a3c3-99563a3ae646",
   "metadata": {},
   "source": [
    "Pruebas matriz de confusión"
   ]
  },
  {
   "cell_type": "code",
   "execution_count": 154,
   "id": "56f4078c-c68b-43dd-8cd4-ac75e5ea17ad",
   "metadata": {},
   "outputs": [
    {
     "data": {
      "text/plain": [
       "{'TP': 47, 'FP': 1, 'TN': 94, 'FN': 2}"
      ]
     },
     "execution_count": 154,
     "metadata": {},
     "output_type": "execute_result"
    }
   ],
   "source": [
    "calculate_global_confusion_matrix(\n",
    "    4,\n",
    "    store.data_train,\n",
    "    store.data_test,\n",
    "    store.tags,\n",
    "    \"Class\"\n",
    "    )"
   ]
  },
  {
   "cell_type": "code",
   "execution_count": 155,
   "id": "aafe9df3-61c9-4b2b-b8cd-0489b8d4eba1",
   "metadata": {},
   "outputs": [
    {
     "data": {
      "text/plain": [
       "{'TP': 47, 'FP': 1, 'TN': 94, 'FN': 2}"
      ]
     },
     "execution_count": 155,
     "metadata": {},
     "output_type": "execute_result"
    }
   ],
   "source": [
    "calculate_global_confusion_matrix(\n",
    "    5,\n",
    "    store.data_train,\n",
    "    store.data_test,\n",
    "    store.tags,\n",
    "    \"Class\"\n",
    "    )"
   ]
  },
  {
   "cell_type": "code",
   "execution_count": 158,
   "id": "944b3be8-1b8d-4240-a426-3bfa4a6015bf",
   "metadata": {},
   "outputs": [
    {
     "name": "stdout",
     "output_type": "stream",
     "text": [
      "tag_objective:  [1]\n",
      "K:  20\n",
      "{'TP': 14, 'FP': 5, 'TN': 26, 'FN': 3}\n",
      "tag_objective:  [2]\n",
      "K:  20\n",
      "{'TP': 12, 'FP': 3, 'TN': 28, 'FN': 5}\n",
      "tag_objective:  [3]\n",
      "K:  20\n",
      "{'TP': 14, 'FP': 0, 'TN': 26, 'FN': 8}\n"
     ]
    },
    {
     "data": {
      "text/plain": [
       "{'TP': 40, 'FP': 8, 'TN': 80, 'FN': 16}"
      ]
     },
     "execution_count": 158,
     "metadata": {},
     "output_type": "execute_result"
    }
   ],
   "source": [
    "calculate_global_confusion_matrix(\n",
    "    20,\n",
    "    store.data_train,\n",
    "    store.data_test,\n",
    "    store.tags,\n",
    "    \"Class\"\n",
    "    )"
   ]
  },
  {
   "cell_type": "code",
   "execution_count": 161,
   "id": "08cb211e-c1ea-49d8-a86c-f73db23f43e8",
   "metadata": {},
   "outputs": [
    {
     "name": "stdout",
     "output_type": "stream",
     "text": [
      "tag_objective:  [1]\n",
      "K:  12\n",
      "confusion_matrix:  {'TP': 15, 'FP': 2, 'TN': 29, 'FN': 2}\n",
      "sum_TP:  15\n",
      "sum_FP:  2\n",
      "sum_TN:  29\n",
      "sum_FN:  2\n",
      "tag_objective:  [2]\n",
      "K:  12\n",
      "confusion_matrix:  {'TP': 15, 'FP': 2, 'TN': 29, 'FN': 2}\n",
      "sum_TP:  30\n",
      "sum_FP:  4\n",
      "sum_TN:  58\n",
      "sum_FN:  4\n",
      "tag_objective:  [3]\n",
      "K:  12\n",
      "confusion_matrix:  {'TP': 14, 'FP': 0, 'TN': 30, 'FN': 4}\n",
      "sum_TP:  44\n",
      "sum_FP:  4\n",
      "sum_TN:  88\n",
      "sum_FN:  8\n"
     ]
    },
    {
     "data": {
      "text/plain": [
       "{'TP': 44, 'FP': 4, 'TN': 88, 'FN': 8}"
      ]
     },
     "execution_count": 161,
     "metadata": {},
     "output_type": "execute_result"
    }
   ],
   "source": [
    "calculate_global_confusion_matrix(\n",
    "    12,\n",
    "    store.data_train,\n",
    "    store.data_test,\n",
    "    store.tags,\n",
    "    \"Class\"\n",
    "    )"
   ]
  },
  {
   "cell_type": "code",
   "execution_count": 165,
   "id": "15ce6031-8f20-4971-b5d8-435254e8d920",
   "metadata": {},
   "outputs": [
    {
     "name": "stdout",
     "output_type": "stream",
     "text": [
      "tag_objective:  [1]\n",
      "confusion_matrix:  {'TP': 10, 'FP': 5, 'TN': 26, 'FN': 7}\n",
      "tag_objective:  [2]\n",
      "confusion_matrix:  {'TP': 12, 'FP': 6, 'TN': 24, 'FN': 6}\n",
      "tag_objective:  [3]\n",
      "confusion_matrix:  {'TP': 14, 'FP': 1, 'TN': 22, 'FN': 11}\n"
     ]
    },
    {
     "data": {
      "text/plain": [
       "{'TP': 36, 'FP': 12, 'TN': 72, 'FN': 24}"
      ]
     },
     "execution_count": 165,
     "metadata": {},
     "output_type": "execute_result"
    }
   ],
   "source": [
    "calculate_global_confusion_matrix(\n",
    "    30,\n",
    "    store.data_train,\n",
    "    store.data_test,\n",
    "    store.tags,\n",
    "    \"Class\"\n",
    "    )"
   ]
  },
  {
   "cell_type": "markdown",
   "id": "f5516383-30af-462c-ae09-f49a9a6c9509",
   "metadata": {},
   "source": [
    "## Experimentación de desempeño"
   ]
  },
  {
   "cell_type": "markdown",
   "id": "fe3a7bde-5abe-46e3-8d85-3c8019371f17",
   "metadata": {},
   "source": [
    "(7). El desempeño de este modelo debe ser encontrado al calcular\n",
    "las métricas de sensibilidad, especificidad y precisión.\n",
    "(8). Gráfico de curva ROC."
   ]
  },
  {
   "cell_type": "code",
   "execution_count": 88,
   "id": "ee6cc282-4494-45e1-a324-8de3f570c11f",
   "metadata": {},
   "outputs": [
    {
     "name": "stdout",
     "output_type": "stream",
     "text": [
      "Mape 0.041666666666666664\n"
     ]
    }
   ],
   "source": [
    "mape = Statistics.calculate_mape(\n",
    "    5,\n",
    "    store.data_train,\n",
    "    store.data_test,\n",
    "    \"Class\",\n",
    "    store.tags\n",
    ")\n",
    "print (f\"Mape {mape}\")"
   ]
  },
  {
   "cell_type": "code",
   "execution_count": 20,
   "id": "e98dae57-605e-47cf-96c2-fc6cfbdd8bcf",
   "metadata": {},
   "outputs": [
    {
     "name": "stdout",
     "output_type": "stream",
     "text": [
      "1 : 2\n",
      "1 : 3\n"
     ]
    }
   ],
   "source": [
    "matriz = Statistics.calculate_confusion_matrix(\n",
    "    5,\n",
    "    store.data_train,\n",
    "    store.data_test,\n",
    "    \"Class\",\n",
    "    store.tags\n",
    ")"
   ]
  },
  {
   "cell_type": "code",
   "execution_count": 35,
   "id": "064c6baa-45df-4acb-8cd0-26eaac96e691",
   "metadata": {},
   "outputs": [
    {
     "name": "stdout",
     "output_type": "stream",
     "text": [
      "{'TP': 15, 'FP': 0, 'TN': 31, 'FN': 2}\n"
     ]
    }
   ],
   "source": [
    "matriz = Statistics.calculate_confusion_matrix(\n",
    "    4,\n",
    "    store.data_train,\n",
    "    store.data_test,\n",
    "    store.tags,\n",
    "    \"Class\",\n",
    "    [3]\n",
    ")\n",
    "print (matriz)"
   ]
  },
  {
   "cell_type": "markdown",
   "id": "e63e4ada-ee89-494b-aba8-2475b518f7d3",
   "metadata": {},
   "source": [
    "## Estadística"
   ]
  },
  {
   "cell_type": "markdown",
   "id": "893e70e9-7e05-40c7-9525-deef62679085",
   "metadata": {},
   "source": [
    "Calcular métricas TPR, FPR, necesarias para la curva ROC."
   ]
  },
  {
   "cell_type": "code",
   "execution_count": 47,
   "id": "4e73527f-0f25-4343-86d6-8441887664c8",
   "metadata": {},
   "outputs": [],
   "source": [
    "listMatrix = Statistics.get_multiple_confusions_per_model(\n",
    "    [1, 2, 3, 4, 5],\n",
    "    store.data_train,\n",
    "    store.data_test,\n",
    "    store.tags,\n",
    "    \"Class\",\n",
    "    [1]\n",
    ")"
   ]
  },
  {
   "cell_type": "code",
   "execution_count": 83,
   "id": "5665d93f-0aa8-4cd5-8993-b2484a64df16",
   "metadata": {},
   "outputs": [
    {
     "name": "stdout",
     "output_type": "stream",
     "text": [
      "0.21875 : 0.75\n",
      "0.15625 : 0.875\n",
      "0.1875 : 0.9375\n",
      "0.1875 : 0.9375\n",
      "0.25 : 0.9375\n"
     ]
    }
   ],
   "source": [
    "lTPR, lFPR = Statistics.get_roc_data_from_model(listMatrix)\n",
    "\n",
    "slTPR, slFPR = zip(*sorted(zip(lTPR, lFPR)))\n",
    "\n",
    "for i in range(len(lTPR)):\n",
    "    print (slFPR[i], \":\", slTPR[i])\n"
   ]
  },
  {
   "cell_type": "markdown",
   "id": "85a16ec1-e9c9-4802-97e8-8abd967873e9",
   "metadata": {},
   "source": [
    "### Métricas de desempeño"
   ]
  },
  {
   "cell_type": "markdown",
   "id": "19e6aa41-79a5-4294-a51e-e3e866953096",
   "metadata": {},
   "source": [
    "Métricas de desempeño calculadas incluyen:\n",
    "- Sensibilidad\n",
    "- Especificidad\n",
    "- Presición"
   ]
  },
  {
   "cell_type": "code",
   "execution_count": 53,
   "id": "ff6c391b-e29b-4f9e-b067-b40bb7fea60b",
   "metadata": {},
   "outputs": [
    {
     "name": "stdout",
     "output_type": "stream",
     "text": [
      "-1. sen: 0.93750, esp: 0.96875, pre: 0.93750\n",
      "-1. sen: 1.00000, esp: 0.96875, pre: 0.94118\n",
      "-1. sen: 1.00000, esp: 0.96875, pre: 0.94118\n",
      "-1. sen: 1.00000, esp: 0.93750, pre: 0.88889\n",
      "-1. sen: 1.00000, esp: 0.93750, pre: 0.88889\n"
     ]
    }
   ],
   "source": [
    "for matrix in listMatrix:\n",
    "    Statistics.find_performance(matrix)"
   ]
  },
  {
   "cell_type": "code",
   "execution_count": 61,
   "id": "ee985f48-31b6-4f55-832b-8ecddee33882",
   "metadata": {},
   "outputs": [
    {
     "name": "stdout",
     "output_type": "stream",
     "text": [
      "['C0', 'C1', 'C2', 'C3', 'C4', 'C5', 'C6', 'C7', 'C8', 'C9', 'C10', 'C11', 'C12', 'C13', 'C14', 'C15', 'C16', 'C17', 'C18', 'C19', 'C20', 'C21', 'C22', 'C23', 'C24', 'C25', 'C26', 'C27', 'C28', 'C29', 'C30', 'C31', 'C32', 'C33', 'Class']\n",
      "['C0', 'C1', 'C4', 'C5', 'C6', 'C7', 'C8', 'C9', 'C10', 'C11', 'C12', 'C13', 'C14', 'C15', 'C16', 'C17', 'C18', 'C19', 'C20', 'C21', 'C22', 'C23', 'C24', 'C25', 'C26', 'C27', 'C28', 'C29', 'C30', 'C31', 'C32', 'C33', 'Class']\n"
     ]
    }
   ],
   "source": [
    "# El proceso de cómo se excluyen las columnas en los calculos\n",
    "\n",
    "columns = [\"C2\", \"C3\"]\n",
    "all_columns = [str(c) for c in store.data_tmp]\n",
    "exclude_columns = [c for c in all_columns if c not in columns]\n",
    "print(exclude_columns)"
   ]
  },
  {
   "cell_type": "markdown",
   "id": "398398f0-57e1-4388-9435-e171f6d60aa2",
   "metadata": {},
   "source": [
    "# Exploración de modelos\n",
    "\n",
    "(9). Variar los parametros para intentar encontrar el modelo con el mejor rendimiento.\n",
    "\n",
    "A continuación una recopilación de modelos. Incluido están sus Métricas, Matriz, y curva ROC."
   ]
  },
  {
   "cell_type": "code",
   "execution_count": 65,
   "id": "82930145-9bb6-43c6-9d4b-44aff3bd055e",
   "metadata": {},
   "outputs": [],
   "source": [
    "listMatrix = MetaStatistics.get_multiple_confusions_per_model(\n",
    "    [1, 2, 3, 4, 5],\n",
    "    store.data_train,\n",
    "    store.data_test,\n",
    "    ['C1', 'C2', 'C3', 'C4', 'C5', 'C6', 'C7'],\n",
    "    store.tags,\n",
    "    \"Class\",\n",
    "    [1]\n",
    ")"
   ]
  },
  {
   "cell_type": "code",
   "execution_count": 79,
   "id": "8ff17b2d-d062-4645-b8d7-b94fd6a72705",
   "metadata": {},
   "outputs": [
    {
     "name": "stdout",
     "output_type": "stream",
     "text": [
      "-1. sen: 0.75000, esp: 0.78125, pre: 0.63158\n",
      "-1. sen: 0.93750, esp: 0.75000, pre: 0.65217\n",
      "-1. sen: 0.87500, esp: 0.84375, pre: 0.73684\n",
      "-1. sen: 0.93750, esp: 0.81250, pre: 0.71429\n",
      "-1. sen: 0.93750, esp: 0.81250, pre: 0.71429\n",
      "-1. sen: 1.00000, esp: 0.75000, pre: 0.66667\n",
      "0.21875 : 0.75\n",
      "0.15625 : 0.875\n",
      "0.1875 : 0.9375\n",
      "0.1875 : 0.9375\n",
      "0.25 : 0.9375\n",
      "0.25 : 1.0\n"
     ]
    },
    {
     "data": {
      "image/png": "[encoded data removed]",
      "text/plain": [
       "<Figure size 640x480 with 1 Axes>"
      ]
     },
     "metadata": {},
     "output_type": "display_data"
    }
   ],
   "source": [
    "MetaStatistics.model_meta_function(\n",
    "    [1, 2, 3, 4, 5, 6],\n",
    "    store.data_train,\n",
    "    store.data_test,\n",
    "    ['C1', 'C2', 'C3', 'C4', 'C5', 'C6', 'C7'],\n",
    "    store.tags,\n",
    "    \"Class\",\n",
    "    [1]\n",
    ")"
   ]
  },
  {
   "cell_type": "code",
   "execution_count": 80,
   "id": "20b32545-6611-4ec4-9279-56d9fa3666ba",
   "metadata": {},
   "outputs": [
    {
     "name": "stdout",
     "output_type": "stream",
     "text": [
      "{'TP': 8, 'FP': 0, 'TN': 31, 'FN': 9}\n",
      "-1. sen: 0.47059, esp: 1.00000, pre: 1.00000\n",
      "{'TP': 8, 'FP': 0, 'TN': 31, 'FN': 9}\n",
      "-1. sen: 0.47059, esp: 1.00000, pre: 1.00000\n",
      "{'TP': 10, 'FP': 1, 'TN': 31, 'FN': 6}\n",
      "-1. sen: 0.62500, esp: 0.96875, pre: 0.90909\n",
      "{'TP': 8, 'FP': 1, 'TN': 31, 'FN': 8}\n",
      "-1. sen: 0.50000, esp: 0.96875, pre: 0.88889\n",
      "{'TP': 16, 'FP': 1, 'TN': 31, 'FN': 0}\n",
      "-1. sen: 1.00000, esp: 0.96875, pre: 0.94118\n",
      "{'TP': 16, 'FP': 1, 'TN': 31, 'FN': 0}\n",
      "-1. sen: 1.00000, esp: 0.96875, pre: 0.94118\n",
      "0.0 : 0.47058823529411764\n",
      "0.0 : 0.47058823529411764\n",
      "0.03125 : 0.5\n",
      "0.03125 : 0.625\n",
      "0.03125 : 1.0\n",
      "0.03125 : 1.0\n"
     ]
    },
    {
     "data": {
      "image/png": "[encoded data removed]",
      "text/plain": [
       "<Figure size 640x480 with 1 Axes>"
      ]
     },
     "metadata": {},
     "output_type": "display_data"
    }
   ],
   "source": [
    "MetaStatistics.model_meta_function(\n",
    "    [1, 2, 3, 4, 5, 6],\n",
    "    store.data_train,\n",
    "    store.data_test,\n",
    "    ['C8', 'C9', 'C10', 'C11', 'C12'],\n",
    "    store.tags,\n",
    "    \"Class\",\n",
    "    [2]\n",
    ")"
   ]
  },
  {
   "cell_type": "code",
   "execution_count": 84,
   "id": "9e8979c2-4a35-4577-a39b-a145cdffa75c",
   "metadata": {},
   "outputs": [
    {
     "name": "stdout",
     "output_type": "stream",
     "text": [
      "{'TP': 15, 'FP': 9, 'TN': 23, 'FN': 1}\n",
      "{'TP': 15, 'FP': 9, 'TN': 23, 'FN': 1}\n",
      "{'TP': 15, 'FP': 9, 'TN': 23, 'FN': 1}\n",
      "{'TP': 15, 'FP': 13, 'TN': 19, 'FN': 1}\n",
      "{'TP': 15, 'FP': 13, 'TN': 19, 'FN': 1}\n",
      "{'TP': 15, 'FP': 13, 'TN': 19, 'FN': 1}\n",
      "-1. sen: 0.93750, esp: 0.71875, pre: 0.62500\n",
      "-1. sen: 0.93750, esp: 0.71875, pre: 0.62500\n",
      "-1. sen: 0.93750, esp: 0.71875, pre: 0.62500\n",
      "-1. sen: 0.93750, esp: 0.59375, pre: 0.53571\n",
      "-1. sen: 0.93750, esp: 0.59375, pre: 0.53571\n",
      "-1. sen: 0.93750, esp: 0.59375, pre: 0.53571\n",
      "0.28125 : 0.9375\n",
      "0.28125 : 0.9375\n",
      "0.28125 : 0.9375\n",
      "0.40625 : 0.9375\n",
      "0.40625 : 0.9375\n",
      "0.40625 : 0.9375\n"
     ]
    },
    {
     "data": {
      "image/png": "[encoded data removed]",
      "text/plain": [
       "<Figure size 640x480 with 1 Axes>"
      ]
     },
     "metadata": {},
     "output_type": "display_data"
    }
   ],
   "source": [
    "MetaStatistics.model_meta_function(\n",
    "    [1, 2, 3, 4, 5, 6],\n",
    "    store.data_train,\n",
    "    store.data_test,\n",
    "    ['C20', 'C19', 'C18', 'C17', 'C16'],\n",
    "    store.tags,\n",
    "    \"Class\",\n",
    "    [2]\n",
    ")"
   ]
  },
  {
   "cell_type": "code",
   "execution_count": 85,
   "id": "a0fde6ad-e08d-4c8e-aa22-525074c3a7c6",
   "metadata": {},
   "outputs": [
    {
     "name": "stdout",
     "output_type": "stream",
     "text": [
      "{'TP': 16, 'FP': 0, 'TN': 29, 'FN': 3}\n",
      "{'TP': 16, 'FP': 0, 'TN': 29, 'FN': 3}\n",
      "{'TP': 16, 'FP': 0, 'TN': 29, 'FN': 3}\n",
      "{'TP': 16, 'FP': 0, 'TN': 29, 'FN': 3}\n",
      "{'TP': 16, 'FP': 0, 'TN': 29, 'FN': 3}\n",
      "{'TP': 16, 'FP': 0, 'TN': 29, 'FN': 3}\n",
      "-1. sen: 0.84211, esp: 1.00000, pre: 1.00000\n",
      "-1. sen: 0.84211, esp: 1.00000, pre: 1.00000\n",
      "-1. sen: 0.84211, esp: 1.00000, pre: 1.00000\n",
      "-1. sen: 0.84211, esp: 1.00000, pre: 1.00000\n",
      "-1. sen: 0.84211, esp: 1.00000, pre: 1.00000\n",
      "-1. sen: 0.84211, esp: 1.00000, pre: 1.00000\n",
      "0.0 : 0.8421052631578947\n",
      "0.0 : 0.8421052631578947\n",
      "0.0 : 0.8421052631578947\n",
      "0.0 : 0.8421052631578947\n",
      "0.0 : 0.8421052631578947\n",
      "0.0 : 0.8421052631578947\n"
     ]
    },
    {
     "data": {
      "image/png": "[encoded data removed]",
      "text/plain": [
       "<Figure size 640x480 with 1 Axes>"
      ]
     },
     "metadata": {},
     "output_type": "display_data"
    }
   ],
   "source": [
    "MetaStatistics.model_meta_function(\n",
    "    [1, 2, 3, 4, 5, 6],\n",
    "    store.data_train,\n",
    "    store.data_test,\n",
    "    ['C2', 'C3', 'C5', 'C7', 'C9', 'C11', 'C13'],\n",
    "    store.tags,\n",
    "    \"Class\",\n",
    "    [3]\n",
    ")"
   ]
  },
  {
   "cell_type": "code",
   "execution_count": 91,
   "id": "9552d9b6-f1c6-416a-a4d2-47896a141de9",
   "metadata": {},
   "outputs": [
    {
     "name": "stdout",
     "output_type": "stream",
     "text": [
      "{'TP': 15, 'FP': 6, 'TN': 25, 'FN': 2}\n",
      "{'TP': 16, 'FP': 7, 'TN': 24, 'FN': 1}\n",
      "{'TP': 15, 'FP': 1, 'TN': 30, 'FN': 2}\n",
      "{'TP': 15, 'FP': 1, 'TN': 30, 'FN': 2}\n",
      "{'TP': 15, 'FP': 1, 'TN': 30, 'FN': 2}\n",
      "{'TP': 16, 'FP': 1, 'TN': 30, 'FN': 1}\n",
      "{'TP': 15, 'FP': 1, 'TN': 30, 'FN': 2}\n",
      "-1. sen: 0.88235, esp: 0.80645, pre: 0.71429\n",
      "-1. sen: 0.94118, esp: 0.77419, pre: 0.69565\n",
      "-1. sen: 0.88235, esp: 0.96774, pre: 0.93750\n",
      "-1. sen: 0.88235, esp: 0.96774, pre: 0.93750\n",
      "-1. sen: 0.88235, esp: 0.96774, pre: 0.93750\n",
      "-1. sen: 0.94118, esp: 0.96774, pre: 0.94118\n",
      "-1. sen: 0.88235, esp: 0.96774, pre: 0.93750\n",
      "0.03225806451612903 : 0.8823529411764706\n",
      "0.03225806451612903 : 0.8823529411764706\n",
      "0.03225806451612903 : 0.8823529411764706\n",
      "0.03225806451612903 : 0.8823529411764706\n",
      "0.1935483870967742 : 0.8823529411764706\n",
      "0.03225806451612903 : 0.9411764705882353\n",
      "0.22580645161290322 : 0.9411764705882353\n"
     ]
    },
    {
     "data": {
      "image/png": "[encoded data removed]",
      "text/plain": [
       "<Figure size 640x480 with 1 Axes>"
      ]
     },
     "metadata": {},
     "output_type": "display_data"
    }
   ],
   "source": [
    "MetaStatistics.model_meta_function(\n",
    "    [1, 2, 3, 4, 5, 6, 7],\n",
    "    store.data_train,\n",
    "    store.data_test,\n",
    "    ['C1', 'C8', 'C9', 'C10', 'C11', 'C12'],\n",
    "    store.tags,\n",
    "    \"Class\",\n",
    "    [1]\n",
    ")"
   ]
  }
 ],
 "metadata": {
  "kernelspec": {
   "display_name": "Python 3 (ipykernel)",
   "language": "python",
   "name": "python3"
  },
  "language_info": {
   "codemirror_mode": {
    "name": "ipython",
    "version": 3
   },
   "file_extension": ".py",
   "mimetype": "text/x-python",
   "name": "python",
   "nbconvert_exporter": "python",
   "pygments_lexer": "ipython3",
   "version": "3.11.5"
  }
 },
 "nbformat": 4,
 "nbformat_minor": 5
}
